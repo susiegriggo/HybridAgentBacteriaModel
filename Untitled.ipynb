{
 "cells": [
  {
   "cell_type": "code",
   "execution_count": 1,
   "id": "b6960f09-92cc-492e-9563-cf74aa68c3a3",
   "metadata": {},
   "outputs": [],
   "source": [
    "from model import Tube\n",
    "from SimpleContinuousModule import SimpleCanvas"
   ]
  },
  {
   "cell_type": "code",
   "execution_count": null,
   "id": "72eff0bd-c0c3-4d83-b6e4-03cc358d6736",
   "metadata": {},
   "outputs": [],
   "source": [
    "model_params = {\n",
    "    \"population\": 10,\n",
    "    \"width\": 10, #these parameters set the scale for the model\n",
    "    \"height\": 10,\n",
    "}"
   ]
  },
  {
   "cell_type": "code",
   "execution_count": null,
   "id": "b8eefa72-71eb-430e-8421-98c126e7bd99",
   "metadata": {},
   "outputs": [],
   "source": [
    "model = T\n",
    "for i in range(5): \n",
    "    model.step "
   ]
  }
 ],
 "metadata": {
  "kernelspec": {
   "display_name": "Python 3",
   "language": "python",
   "name": "python3"
  },
  "language_info": {
   "codemirror_mode": {
    "name": "ipython",
    "version": 3
   },
   "file_extension": ".py",
   "mimetype": "text/x-python",
   "name": "python",
   "nbconvert_exporter": "python",
   "pygments_lexer": "ipython3",
   "version": "3.8.10"
  }
 },
 "nbformat": 4,
 "nbformat_minor": 5
}
