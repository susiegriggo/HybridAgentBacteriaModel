{
 "cells": [
  {
   "cell_type": "code",
   "execution_count": 56,
   "metadata": {},
   "outputs": [],
   "source": [
    "#imports \n",
    "import numpy as np \n",
    "from scipy import stats \n",
    "import random \n",
    "import seaborn as sns"
   ]
  },
  {
   "cell_type": "code",
   "execution_count": 84,
   "metadata": {},
   "outputs": [],
   "source": [
    "width = 100 \n",
    "height = 10\n",
    "dx = 0.1 \n",
    "dy = 0.1 \n",
    "nx = int(width/dx)\n",
    "ny = int(height/dy)\n",
    "\n",
    "#collection of agents \n",
    "rand_data = [[random.random()*5, random.random()*1] for _ in range(20)]"
   ]
  },
  {
   "cell_type": "code",
   "execution_count": 85,
   "metadata": {},
   "outputs": [],
   "source": [
    "rand_data = np.array(rand_data).T \n",
    "kde = stats.gaussian_kde(rand_data)"
   ]
  },
  {
   "cell_type": "code",
   "execution_count": 86,
   "metadata": {},
   "outputs": [],
   "source": [
    "#intialise the grid to evaluate the density over \n",
    "r= int(round(-1 * np.log10(dx)))\n",
    "grid =  [[[np.round(i * dx, r), np.round(j * dy, r)] for i in range(nx + 1)] for j in range(ny + 1)] #all the points should be evaluated for "
   ]
  },
  {
   "cell_type": "code",
   "execution_count": 91,
   "metadata": {},
   "outputs": [],
   "source": [
    "X, Y = np.mgrid[0:width:(nx+1)*1j, 0:height:(ny+1)*1j]\n",
    "positions = np.vstack([X.ravel(), Y.ravel()])\n",
    "kernel = kde(positions)\n",
    "Z = np.reshape(kernel.T, X.shape) #bandwidth is optimally calcualted insdie "
   ]
  },
  {
   "cell_type": "code",
   "execution_count": 92,
   "metadata": {},
   "outputs": [
    {
     "data": {
      "text/plain": [
       "<matplotlib.axes._subplots.AxesSubplot at 0x1ae79e71208>"
      ]
     },
     "execution_count": 92,
     "metadata": {},
     "output_type": "execute_result"
    },
    {
     "data": {
      "image/png": "[encoded data removed]",
      "text/plain": [
       "<Figure size 432x288 with 2 Axes>"
      ]
     },
     "metadata": {
      "needs_background": "light"
     },
     "output_type": "display_data"
    }
   ],
   "source": [
    "sns.heatmap(Z, square = True)"
   ]
  },
  {
   "cell_type": "code",
   "execution_count": 97,
   "metadata": {},
   "outputs": [],
   "source": [
    "#other package  #try using this package \n",
    "import statsmodels.api as sm \n",
    "dens_u = sm.nonparametric.KDEMultivariate(data = rand_data, var_type = 'cc')"
   ]
  },
  {
   "cell_type": "code",
   "execution_count": 106,
   "metadata": {},
   "outputs": [],
   "source": [
    "dens_u.bw #gives the bandwith matrix \n",
    "a = dens_u.pdf(positions)\n",
    "Za = np.reshape(a.T, X.shape)\n",
    "Za "
   ]
  },
  {
   "cell_type": "code",
   "execution_count": 110,
   "metadata": {},
   "outputs": [
    {
     "data": {
      "text/plain": [
       "<matplotlib.axes._subplots.AxesSubplot at 0x1ae7f071d48>"
      ]
     },
     "execution_count": 110,
     "metadata": {},
     "output_type": "execute_result"
    },
    {
     "data": {
      "image/png": "[encoded data removed]",
      "text/plain": [
       "<Figure size 432x288 with 2 Axes>"
      ]
     },
     "metadata": {
      "needs_background": "light"
     },
     "output_type": "display_data"
    }
   ],
   "source": [
    "sns.heatmap(Za, square = True)"
   ]
  },
  {
   "cell_type": "code",
   "execution_count": 132,
   "metadata": {},
   "outputs": [
    {
     "data": {
      "text/plain": [
       "array([[4.09371928e-03, 5.24220240e-03, 6.61803806e-03, ...,\n",
       "        3.93158847e-17, 1.53829904e-17, 5.92811190e-18],\n",
       "       [4.52978509e-03, 5.78809068e-03, 7.29213455e-03, ...,\n",
       "        5.99922953e-17, 2.35160294e-17, 9.07746383e-18],\n",
       "       [4.98901426e-03, 6.36169644e-03, 7.99909529e-03, ...,\n",
       "        9.07315003e-17, 3.56231100e-17, 1.37712275e-17],\n",
       "       ...,\n",
       "       [0.00000000e+00, 0.00000000e+00, 0.00000000e+00, ...,\n",
       "        0.00000000e+00, 0.00000000e+00, 0.00000000e+00],\n",
       "       [0.00000000e+00, 0.00000000e+00, 0.00000000e+00, ...,\n",
       "        0.00000000e+00, 0.00000000e+00, 0.00000000e+00],\n",
       "       [0.00000000e+00, 0.00000000e+00, 0.00000000e+00, ...,\n",
       "        0.00000000e+00, 0.00000000e+00, 0.00000000e+00]])"
      ]
     },
     "execution_count": 132,
     "metadata": {},
     "output_type": "execute_result"
    }
   ],
   "source": [
    "#alternative random data \n",
    "rand_data = [[random.random()*5, random.random()*5] for _ in range(10)]\n",
    "dens_u = sm.nonparametric.KDEMultivariate(data = rand_data, var_type = 'cc')\n",
    "dens_u.bw #gives the bandwith matrix \n",
    "a = dens_u.pdf(positions)\n",
    "Za = np.reshape(a.T, X.shape)\n",
    "Za "
   ]
  },
  {
   "cell_type": "code",
   "execution_count": 133,
   "metadata": {},
   "outputs": [
    {
     "data": {
      "text/plain": [
       "<matplotlib.axes._subplots.AxesSubplot at 0x1ae045be248>"
      ]
     },
     "execution_count": 133,
     "metadata": {},
     "output_type": "execute_result"
    },
    {
     "data": {
      "image/png": "[encoded data removed]",
      "text/plain": [
       "<Figure size 432x288 with 2 Axes>"
      ]
     },
     "metadata": {
      "needs_background": "light"
     },
     "output_type": "display_data"
    }
   ],
   "source": [
    "sns.heatmap(Za, square = True)"
   ]
  },
  {
   "cell_type": "code",
   "execution_count": 134,
   "metadata": {},
   "outputs": [
    {
     "data": {
      "text/plain": [
       "0.0008964386091898257"
      ]
     },
     "execution_count": 134,
     "metadata": {},
     "output_type": "execute_result"
    }
   ],
   "source": [
    "np.mean(Za)"
   ]
  },
  {
   "cell_type": "code",
   "execution_count": null,
   "metadata": {},
   "outputs": [],
   "source": []
  }
 ],
 "metadata": {
  "kernelspec": {
   "display_name": "Python 3",
   "language": "python",
   "name": "python3"
  },
  "language_info": {
   "codemirror_mode": {
    "name": "ipython",
    "version": 3
   },
   "file_extension": ".py",
   "mimetype": "text/x-python",
   "name": "python",
   "nbconvert_exporter": "python",
   "pygments_lexer": "ipython3",
   "version": "3.7.6"
  }
 },
 "nbformat": 4,
 "nbformat_minor": 4
}
